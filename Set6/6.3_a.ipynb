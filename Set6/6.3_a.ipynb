{
 "cells": [
  {
   "cell_type": "code",
   "execution_count": 1,
   "id": "initial_id",
   "metadata": {
    "ExecuteTime": {
     "end_time": "2024-10-25T14:36:54.325680Z",
     "start_time": "2024-10-25T14:36:54.322246Z"
    }
   },
   "outputs": [],
   "source": [
    "from hashlib import sha3_256 as sha256\n",
    "from helper import nlp, get_words_en"
   ]
  },
  {
   "cell_type": "code",
   "execution_count": 2,
   "id": "349cb9094616f9d2",
   "metadata": {
    "ExecuteTime": {
     "end_time": "2024-10-25T14:36:54.340130Z",
     "start_time": "2024-10-25T14:36:54.336702Z"
    }
   },
   "outputs": [
    {
     "name": "stdout",
     "output_type": "stream",
     "text": [
      "0123456789abcdef0123456789abcdef\n",
      "b'\\x01#Eg\\x89\\xab\\xcd\\xef\\x01#Eg\\x89\\xab\\xcd\\xef'\n",
      "00000001001000110100010101100111100010011010101111001101111011110000000100100011010001010110011110001001101010111100110111101111\n"
     ]
    }
   ],
   "source": [
    "# Define the key\n",
    "k128 = '0123456789abcdef0123456789abcdef'\n",
    "k128_b = bytes.fromhex(k128)\n",
    "k128_bin = bin(int(k128, 16))[2:].zfill(128)\n",
    "nlp(k128, k128_b, k128_bin)"
   ]
  },
  {
   "cell_type": "code",
   "execution_count": 3,
   "id": "adb18ec254f4cc7a",
   "metadata": {
    "ExecuteTime": {
     "end_time": "2024-10-25T14:36:54.356021Z",
     "start_time": "2024-10-25T14:36:54.352803Z"
    }
   },
   "outputs": [
    {
     "name": "stdout",
     "output_type": "stream",
     "text": [
      "880cc0048746727855d92c70f0e30ab97f7c489f76bd2db9fc4ca4b57e688d09\n"
     ]
    }
   ],
   "source": [
    "# Determine the SHA3-256 hash h256 = SHA3-256 ( k128 ) of the private keyh256 = sha256(k128.to_bytes(16))\n",
    "h256 = sha256(k128_b)\n",
    "h256_hex = h256.hexdigest()\n",
    "nlp(h256_hex)"
   ]
  },
  {
   "cell_type": "code",
   "execution_count": 4,
   "id": "f6c5c7fe0930c754",
   "metadata": {
    "ExecuteTime": {
     "end_time": "2024-10-25T14:36:54.377457Z",
     "start_time": "2024-10-25T14:36:54.374133Z"
    }
   },
   "outputs": [
    {
     "name": "stdout",
     "output_type": "stream",
     "text": [
      "8\n",
      "1000\n"
     ]
    }
   ],
   "source": [
    "# Take the first four bits\n",
    "h4 = h256_hex[0]\n",
    "h4_b = bin(int(h4, 16))[2:].zfill(4)\n",
    "nlp(h4, h4_b)"
   ]
  },
  {
   "cell_type": "code",
   "execution_count": 5,
   "id": "c108cd9751f09de4",
   "metadata": {
    "ExecuteTime": {
     "end_time": "2024-10-25T14:36:54.398481Z",
     "start_time": "2024-10-25T14:36:54.394857Z"
    }
   },
   "outputs": [
    {
     "name": "stdout",
     "output_type": "stream",
     "text": [
      "000000010010001101000101011001111000100110101011110011011110111100000001001000110100010101100111100010011010101111001101111011111000\n"
     ]
    }
   ],
   "source": [
    "# Append h4 at the end of the private key k128 , and obtain a 132-bit string\n",
    "k132 = k128_bin + h4_b\n",
    "nlp(k132)"
   ]
  },
  {
   "cell_type": "code",
   "execution_count": 6,
   "id": "8045242871d15321",
   "metadata": {
    "ExecuteTime": {
     "end_time": "2024-10-25T14:36:54.508583Z",
     "start_time": "2024-10-25T14:36:54.504834Z"
    }
   },
   "outputs": [
    {
     "name": "stdout",
     "output_type": "stream",
     "text": [
      "['00000001001', '00011010001', '01011001111', '00010011010', '10111100110', '11110111100', '00000100100', '01101000101', '01100111100', '01001101010', '11110011011', '11011111000']\n"
     ]
    }
   ],
   "source": [
    "# Subdivide the binary string k132 into a sequence of 12 consecutive binary words\n",
    "words = [k132[i:i+11] for i in range(0, len(k132), 11)]\n",
    "nlp(words)"
   ]
  },
  {
   "cell_type": "code",
   "execution_count": 7,
   "id": "e76eb69bdfc3069d",
   "metadata": {
    "ExecuteTime": {
     "end_time": "2024-10-25T14:36:54.620688Z",
     "start_time": "2024-10-25T14:36:54.615636Z"
    }
   },
   "outputs": [
    {
     "name": "stdout",
     "output_type": "stream",
     "text": [
      "[9, 209, 719, 154, 1510, 1980, 36, 837, 828, 618, 1947, 1784]\n"
     ]
    }
   ],
   "source": [
    "# Express the words as decimal numbers\n",
    "decimal_words = [int(word, 2) for word in words]\n",
    "nlp(decimal_words)"
   ]
  },
  {
   "cell_type": "code",
   "execution_count": 8,
   "id": "8db2aae3efb464f2",
   "metadata": {
    "ExecuteTime": {
     "end_time": "2024-10-25T14:36:54.691641Z",
     "start_time": "2024-10-25T14:36:54.686687Z"
    }
   },
   "outputs": [
    {
     "name": "stdout",
     "output_type": "stream",
     "text": [
      "abuse\n",
      "boss\n",
      "fly\n",
      "battle\n",
      "rubber\n",
      "wasp\n",
      "afraid\n",
      "hamster\n",
      "guide\n",
      "essence\n",
      "vibrant\n",
      "tenant\n"
     ]
    }
   ],
   "source": [
    "# Convert the decimal numbers into words from the dictionary\n",
    "all_words_en = get_words_en()\n",
    "for word in decimal_words:\n",
    "    print(all_words_en[word])"
   ]
  }
 ],
 "metadata": {
  "kernelspec": {
   "display_name": "Python 3 (ipykernel)",
   "language": "python",
   "name": "python3"
  },
  "language_info": {
   "codemirror_mode": {
    "name": "ipython",
    "version": 3
   },
   "file_extension": ".py",
   "mimetype": "text/x-python",
   "name": "python",
   "nbconvert_exporter": "python",
   "pygments_lexer": "ipython3",
   "version": "3.13.0"
  }
 },
 "nbformat": 4,
 "nbformat_minor": 5
}
