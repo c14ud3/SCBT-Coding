{
 "cells": [
  {
   "cell_type": "code",
   "execution_count": 1,
   "id": "fb0ffbd6180104ed",
   "metadata": {
    "ExecuteTime": {
     "end_time": "2024-10-25T14:57:44.895034Z",
     "start_time": "2024-10-25T14:57:44.890041Z"
    }
   },
   "outputs": [],
   "source": [
    "from hashlib import sha3_256 as sha256\n",
    "from helper import nlp, get_words_en"
   ]
  },
  {
   "cell_type": "code",
   "execution_count": 2,
   "id": "af0973cf581a88ab",
   "metadata": {
    "ExecuteTime": {
     "end_time": "2024-10-25T14:57:44.910746Z",
     "start_time": "2024-10-25T14:57:44.906831Z"
    }
   },
   "outputs": [],
   "source": [
    "# define the seed\n",
    "seed = (\"abuse\", \"boss\", \"fly\", \"battle\", \"rubber\", \"wasp\", \"afraid\", \"hamster\", \"guide\", \"essence\", \"vibrant\", \"tenant\")"
   ]
  },
  {
   "cell_type": "code",
   "execution_count": 3,
   "id": "fbfa31959a55b189",
   "metadata": {
    "ExecuteTime": {
     "end_time": "2024-10-25T14:57:44.928306Z",
     "start_time": "2024-10-25T14:57:44.923376Z"
    }
   },
   "outputs": [],
   "source": [
    "# load words and reverse the tuple\n",
    "all_words = get_words_en()\n",
    "all_words_reversed = {word: i for i, word in enumerate(all_words)}"
   ]
  },
  {
   "cell_type": "code",
   "execution_count": 4,
   "id": "9107e30b32f78e09",
   "metadata": {
    "ExecuteTime": {
     "end_time": "2024-10-25T14:57:44.941273Z",
     "start_time": "2024-10-25T14:57:44.938325Z"
    }
   },
   "outputs": [
    {
     "name": "stdout",
     "output_type": "stream",
     "text": [
      "[9, 209, 719, 154, 1510, 1980, 36, 837, 828, 618, 1947, 1784]\n"
     ]
    }
   ],
   "source": [
    "# get the indexes of the seed words\n",
    "decimal_words = [all_words_reversed[word] for word in seed]\n",
    "nlp(decimal_words)"
   ]
  },
  {
   "cell_type": "code",
   "execution_count": 5,
   "id": "a774171b02505af5",
   "metadata": {
    "ExecuteTime": {
     "end_time": "2024-10-25T14:57:45.052576Z",
     "start_time": "2024-10-25T14:57:45.046017Z"
    }
   },
   "outputs": [
    {
     "name": "stdout",
     "output_type": "stream",
     "text": [
      "['00000001001', '00011010001', '01011001111', '00010011010', '10111100110', '11110111100', '00000100100', '01101000101', '01100111100', '01001101010', '11110011011', '11011111000']\n"
     ]
    }
   ],
   "source": [
    "# get the binary representation of the indexes\n",
    "binary_words = [f'{x:011b}' for x in decimal_words]\n",
    "nlp(binary_words)"
   ]
  },
  {
   "cell_type": "code",
   "execution_count": 6,
   "id": "aeb4893114a8eca",
   "metadata": {
    "ExecuteTime": {
     "end_time": "2024-10-25T14:57:45.185264Z",
     "start_time": "2024-10-25T14:57:45.182347Z"
    }
   },
   "outputs": [
    {
     "name": "stdout",
     "output_type": "stream",
     "text": [
      "000000010010001101000101011001111000100110101011110011011110111100000001001000110100010101100111100010011010101111001101111011111000\n"
     ]
    }
   ],
   "source": [
    "# combine the binary representation\n",
    "binary_seed = ''.join(binary_words)\n",
    "nlp(binary_seed)"
   ]
  },
  {
   "cell_type": "code",
   "execution_count": 7,
   "id": "c7dbd19d5f38c5d",
   "metadata": {
    "ExecuteTime": {
     "end_time": "2024-10-25T14:57:45.266978Z",
     "start_time": "2024-10-25T14:57:45.263710Z"
    }
   },
   "outputs": [
    {
     "name": "stdout",
     "output_type": "stream",
     "text": [
      "0123456789abcdef0123456789abcdef\n"
     ]
    }
   ],
   "source": [
    "# remove the last 4 bits and get the hex representation\n",
    "private_key = hex(int(binary_seed[:-4], 2))[2:].zfill(32)\n",
    "nlp(private_key)"
   ]
  }
 ],
 "metadata": {
  "kernelspec": {
   "display_name": "Python 3 (ipykernel)",
   "language": "python",
   "name": "python3"
  },
  "language_info": {
   "codemirror_mode": {
    "name": "ipython",
    "version": 3
   },
   "file_extension": ".py",
   "mimetype": "text/x-python",
   "name": "python",
   "nbconvert_exporter": "python",
   "pygments_lexer": "ipython3",
   "version": "3.13.0"
  }
 },
 "nbformat": 4,
 "nbformat_minor": 5
}
