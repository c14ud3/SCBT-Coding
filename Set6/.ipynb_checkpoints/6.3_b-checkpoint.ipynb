{
 "cells": [
  {
   "metadata": {
    "ExecuteTime": {
     "end_time": "2024-10-25T14:57:44.895034Z",
     "start_time": "2024-10-25T14:57:44.890041Z"
    }
   },
   "cell_type": "code",
   "source": [
    "from hashlib import sha3_256 as sha256\n",
    "from helper import nlp, get_words_en"
   ],
   "id": "fb0ffbd6180104ed",
   "outputs": [],
   "execution_count": 34
  },
  {
   "metadata": {
    "ExecuteTime": {
     "end_time": "2024-10-25T14:57:44.910746Z",
     "start_time": "2024-10-25T14:57:44.906831Z"
    }
   },
   "cell_type": "code",
   "source": [
    "# define the seed\n",
    "seed = (\"abuse\", \"boss\", \"fly\", \"battle\", \"rubber\", \"wasp\", \"afraid\", \"hamster\", \"guide\", \"essence\", \"vibrant\", \"tenant\")"
   ],
   "id": "af0973cf581a88ab",
   "outputs": [],
   "execution_count": 35
  },
  {
   "metadata": {
    "ExecuteTime": {
     "end_time": "2024-10-25T14:57:44.928306Z",
     "start_time": "2024-10-25T14:57:44.923376Z"
    }
   },
   "cell_type": "code",
   "source": [
    "# load words and reverse the tuple\n",
    "all_words = get_words_en()\n",
    "all_words_reversed = {word: i for i, word in enumerate(all_words)}"
   ],
   "id": "fbfa31959a55b189",
   "outputs": [],
   "execution_count": 36
  },
  {
   "metadata": {
    "ExecuteTime": {
     "end_time": "2024-10-25T14:57:44.941273Z",
     "start_time": "2024-10-25T14:57:44.938325Z"
    }
   },
   "cell_type": "code",
   "source": [
    "# get the indexes of the seed words\n",
    "decimal_words = [all_words_reversed[word] for word in seed]\n",
    "nlp(decimal_words)"
   ],
   "id": "9107e30b32f78e09",
   "outputs": [
    {
     "name": "stdout",
     "output_type": "stream",
     "text": [
      "[9, 209, 719, 154, 1510, 1980, 36, 837, 828, 618, 1947, 1784]\n"
     ]
    }
   ],
   "execution_count": 37
  },
  {
   "metadata": {
    "ExecuteTime": {
     "end_time": "2024-10-25T14:57:45.052576Z",
     "start_time": "2024-10-25T14:57:45.046017Z"
    }
   },
   "cell_type": "code",
   "source": [
    "# get the binary representation of the indexes\n",
    "binary_words = [f'{x:011b}' for x in decimal_words]\n",
    "nlp(binary_words)"
   ],
   "id": "a774171b02505af5",
   "outputs": [
    {
     "name": "stdout",
     "output_type": "stream",
     "text": [
      "['00000001001', '00011010001', '01011001111', '00010011010', '10111100110', '11110111100', '00000100100', '01101000101', '01100111100', '01001101010', '11110011011', '11011111000']\n"
     ]
    }
   ],
   "execution_count": 38
  },
  {
   "metadata": {
    "ExecuteTime": {
     "end_time": "2024-10-25T14:57:45.185264Z",
     "start_time": "2024-10-25T14:57:45.182347Z"
    }
   },
   "cell_type": "code",
   "source": [
    "# combine the binary representation\n",
    "binary_seed = ''.join(binary_words)\n",
    "nlp(binary_seed)"
   ],
   "id": "aeb4893114a8eca",
   "outputs": [
    {
     "name": "stdout",
     "output_type": "stream",
     "text": [
      "000000010010001101000101011001111000100110101011110011011110111100000001001000110100010101100111100010011010101111001101111011111000\n"
     ]
    }
   ],
   "execution_count": 39
  },
  {
   "metadata": {
    "ExecuteTime": {
     "end_time": "2024-10-25T14:57:45.266978Z",
     "start_time": "2024-10-25T14:57:45.263710Z"
    }
   },
   "cell_type": "code",
   "source": [
    "# remove the last 4 bits and get the hex representation\n",
    "private_key = hex(int(binary_seed[:-4], 2))[2:].zfill(32)\n",
    "nlp(private_key)"
   ],
   "id": "c7dbd19d5f38c5d",
   "outputs": [
    {
     "name": "stdout",
     "output_type": "stream",
     "text": [
      "0123456789abcdef0123456789abcdef\n"
     ]
    }
   ],
   "execution_count": 40
  }
 ],
 "metadata": {
  "kernelspec": {
   "display_name": "Python 3",
   "language": "python",
   "name": "python3"
  },
  "language_info": {
   "codemirror_mode": {
    "name": "ipython",
    "version": 2
   },
   "file_extension": ".py",
   "mimetype": "text/x-python",
   "name": "python",
   "nbconvert_exporter": "python",
   "pygments_lexer": "ipython2",
   "version": "2.7.6"
  }
 },
 "nbformat": 4,
 "nbformat_minor": 5
}
